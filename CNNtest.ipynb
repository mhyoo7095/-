{
  "nbformat": 4,
  "nbformat_minor": 0,
  "metadata": {
    "colab": {
      "name": "CNNtest",
      "provenance": [],
      "collapsed_sections": [],
      "authorship_tag": "ABX9TyMzo//U5BRC83/Siz1tsMX/"
    },
    "kernelspec": {
      "name": "python3",
      "display_name": "Python 3"
    },
    "language_info": {
      "name": "python"
    }
  },
  "cells": [
    {
      "cell_type": "code",
      "metadata": {
        "colab": {
          "base_uri": "https://localhost:8080/"
        },
        "id": "VqkEUROFLXot",
        "outputId": "dabde2d1-03b4-49b1-dc9a-e724a1ed0f16"
      },
      "source": [
        "from google.colab import drive \n",
        "drive.mount('/content/gdrive')"
      ],
      "execution_count": 12,
      "outputs": [
        {
          "output_type": "stream",
          "text": [
            "Drive already mounted at /content/gdrive; to attempt to forcibly remount, call drive.mount(\"/content/gdrive\", force_remount=True).\n"
          ],
          "name": "stdout"
        }
      ]
    },
    {
      "cell_type": "code",
      "metadata": {
        "id": "_9IAcjjXjty0"
      },
      "source": [
        "import tensorflow\n",
        "import tensorflow\n",
        "import os, shutil"
      ],
      "execution_count": 11,
      "outputs": []
    },
    {
      "cell_type": "code",
      "metadata": {
        "id": "ejWAvHDYjt1M"
      },
      "source": [
        "base_dir = '/content/gdrive/MyDrive/내_클라우드플랫폼'\n",
        "\n",
        "train_dir = '/content/gdrive/MyDrive/내_클라우드플랫폼/train'\n",
        "validation_dir = '/content/gdrive/MyDrive/내_클라우드플랫폼/validation'\n",
        "test_dir = '/content/gdrive/MyDrive/내_클라우드플랫폼/test'\n",
        "\n",
        "train_brush = '/content/gdrive/MyDrive/내_클라우드플랫폼/train/brush'\n",
        "train_flag = '/content/gdrive/MyDrive/내_클라우드플랫폼/train/flag'\n",
        "train_mattress = '/content/gdrive/MyDrive/내_클라우드플랫폼/train/mattress'\n",
        "train_pad = '/content/gdrive/MyDrive/내_클라우드플랫폼/train/pad'\n",
        "train_umbrella = '/content/gdrive/MyDrive/내_클라우드플랫폼/train/umbrella'\n",
        "\n",
        "validation_brush = '/content/gdrive/MyDrive/내_클라우드플랫폼/validation/brush'\n",
        "validation_flag = '/content/gdrive/MyDrive/내_클라우드플랫폼/validation/flag'\n",
        "validation_mattress = '/content/gdrive/MyDrive/내_클라우드플랫폼/validation/mattress'\n",
        "validation_pad = '/content/gdrive/MyDrive/내_클라우드플랫폼/validation/pad'\n",
        "validation_umbrella = '/content/gdrive/MyDrive/내_클라우드플랫폼/validation/umbrella'\n",
        "\n",
        "test_brush = '/content/gdrive/MyDrive/내_클라우드플랫폼/test/brush'\n",
        "test_flag = '/content/gdrive/MyDrive/내_클라우드플랫폼/test/flag'\n",
        "test_mattress = '/content/gdrive/MyDrive/내_클라우드플랫폼/test/mattress'\n",
        "test_pad = '/content/gdrive/MyDrive/내_클라우드플랫폼/test/pad'\n",
        "test_umbrella = '/content/gdrive/MyDrive/내_클라우드플랫폼/test/umbrella'"
      ],
      "execution_count": 13,
      "outputs": []
    },
    {
      "cell_type": "code",
      "metadata": {
        "colab": {
          "base_uri": "https://localhost:8080/"
        },
        "id": "h02M_N4ojt3P",
        "outputId": "f653fbf7-4e23-4bda-c490-5a51a35125a9"
      },
      "source": [
        "print('train brush len :', len(os.listdir(train_brush)))"
      ],
      "execution_count": 14,
      "outputs": [
        {
          "output_type": "stream",
          "text": [
            "train brush len : 17\n"
          ],
          "name": "stdout"
        }
      ]
    },
    {
      "cell_type": "code",
      "metadata": {
        "id": "X72wwK2_jt5N"
      },
      "source": [
        "from tensorflow.keras import layers\n",
        "from tensorflow.keras import models\n",
        "\n",
        "model = models.Sequential()\n",
        "model.add(layers.Conv2D(32, (3, 3), activation='relu', input_shape=(150, 150, 3)))\n",
        "model.add(layers.MaxPooling2D((2, 2)))\n",
        "model.add(layers.Conv2D(64, (3, 3), activation='relu'))\n",
        "model.add(layers.MaxPooling2D((2, 2)))\n",
        "model.add(layers.Conv2D(128, (3, 3), activation='relu'))\n",
        "model.add(layers.MaxPooling2D((2, 2)))\n",
        "model.add(layers.Conv2D(128, (3, 3), activation='relu'))\n",
        "model.add(layers.MaxPooling2D((2, 2)))\n",
        "\n",
        "model.add(layers.Flatten())\n",
        "model.add(layers.Dense(512, activation='relu'))\n",
        "model.add(layers.Dense(5, activation='softmax'))"
      ],
      "execution_count": 17,
      "outputs": []
    },
    {
      "cell_type": "code",
      "metadata": {
        "colab": {
          "base_uri": "https://localhost:8080/"
        },
        "id": "36A5Mpo9jt7f",
        "outputId": "bfb97bce-c3ea-4cfe-e518-0a80feccdec4"
      },
      "source": [
        "model.summary()"
      ],
      "execution_count": 18,
      "outputs": [
        {
          "output_type": "stream",
          "text": [
            "Model: \"sequential_1\"\n",
            "_________________________________________________________________\n",
            "Layer (type)                 Output Shape              Param #   \n",
            "=================================================================\n",
            "conv2d_4 (Conv2D)            (None, 148, 148, 32)      896       \n",
            "_________________________________________________________________\n",
            "max_pooling2d_4 (MaxPooling2 (None, 74, 74, 32)        0         \n",
            "_________________________________________________________________\n",
            "conv2d_5 (Conv2D)            (None, 72, 72, 64)        18496     \n",
            "_________________________________________________________________\n",
            "max_pooling2d_5 (MaxPooling2 (None, 36, 36, 64)        0         \n",
            "_________________________________________________________________\n",
            "conv2d_6 (Conv2D)            (None, 34, 34, 128)       73856     \n",
            "_________________________________________________________________\n",
            "max_pooling2d_6 (MaxPooling2 (None, 17, 17, 128)       0         \n",
            "_________________________________________________________________\n",
            "conv2d_7 (Conv2D)            (None, 15, 15, 128)       147584    \n",
            "_________________________________________________________________\n",
            "max_pooling2d_7 (MaxPooling2 (None, 7, 7, 128)         0         \n",
            "_________________________________________________________________\n",
            "flatten_1 (Flatten)          (None, 6272)              0         \n",
            "_________________________________________________________________\n",
            "dense_2 (Dense)              (None, 512)               3211776   \n",
            "_________________________________________________________________\n",
            "dense_3 (Dense)              (None, 5)                 2565      \n",
            "=================================================================\n",
            "Total params: 3,455,173\n",
            "Trainable params: 3,455,173\n",
            "Non-trainable params: 0\n",
            "_________________________________________________________________\n"
          ],
          "name": "stdout"
        }
      ]
    },
    {
      "cell_type": "code",
      "metadata": {
        "id": "Z_aPjo8Ljt9t"
      },
      "source": [
        "from tensorflow.keras import optimizers\n",
        "\n",
        "model.compile(loss='categorical_crossentropy',\n",
        "              optimizer=optimizers.RMSprop(lr=1e-4),\n",
        "              metrics=['acc'])"
      ],
      "execution_count": 19,
      "outputs": []
    },
    {
      "cell_type": "code",
      "metadata": {
        "colab": {
          "base_uri": "https://localhost:8080/"
        },
        "id": "I1fcFN1Yjt_Y",
        "outputId": "4e4ddff7-b94c-462f-fb0b-1ad782f06da1"
      },
      "source": [
        "from tensorflow.keras.preprocessing.image import ImageDataGenerator\n",
        "\n",
        "train_datagen = ImageDataGenerator(rescale=1./255)\n",
        "test_datagen = ImageDataGenerator(rescale=1./255)\n",
        "\n",
        "train_generator = train_datagen.flow_from_directory(\n",
        "        train_dir,\n",
        "        target_size=(150, 150),\n",
        "        batch_size=20,\n",
        "        class_mode='categorical')\n",
        "\n",
        "validation_generator = test_datagen.flow_from_directory(\n",
        "        validation_dir,\n",
        "        target_size=(150, 150),\n",
        "        batch_size=50,\n",
        "        class_mode='categorical')"
      ],
      "execution_count": 20,
      "outputs": [
        {
          "output_type": "stream",
          "text": [
            "Found 76 images belonging to 5 classes.\n",
            "Found 20 images belonging to 5 classes.\n"
          ],
          "name": "stdout"
        }
      ]
    },
    {
      "cell_type": "code",
      "metadata": {
        "colab": {
          "base_uri": "https://localhost:8080/"
        },
        "id": "A0hb3xKCpLcc",
        "outputId": "33e663ae-0b9f-4e9e-ad5e-838766fd2382"
      },
      "source": [
        "for data_batch, labels_batch in train_generator:\n",
        "    print('배치 데이터 크기:', data_batch.shape)\n",
        "    print('배치 레이블 크기:', labels_batch.shape)\n",
        "    break"
      ],
      "execution_count": 21,
      "outputs": [
        {
          "output_type": "stream",
          "text": [
            "배치 데이터 크기: (20, 150, 150, 3)\n",
            "배치 레이블 크기: (20, 5)\n"
          ],
          "name": "stdout"
        }
      ]
    },
    {
      "cell_type": "code",
      "metadata": {
        "colab": {
          "base_uri": "https://localhost:8080/"
        },
        "id": "Um9sladTpO5E",
        "outputId": "b1870f44-ed24-4542-a06e-ba74af5622ff"
      },
      "source": [
        "history = model.fit_generator(\n",
        "      train_generator,\n",
        "      #steps_per_epoch=10,\n",
        "      epochs=20,\n",
        "      validation_data=validation_generator,\n",
        "      #validation_steps=50\n",
        "      )"
      ],
      "execution_count": 22,
      "outputs": [
        {
          "output_type": "stream",
          "text": [
            "/usr/local/lib/python3.7/dist-packages/tensorflow/python/keras/engine/training.py:1844: UserWarning: `Model.fit_generator` is deprecated and will be removed in a future version. Please use `Model.fit`, which supports generators.\n",
            "  warnings.warn('`Model.fit_generator` is deprecated and '\n"
          ],
          "name": "stderr"
        },
        {
          "output_type": "stream",
          "text": [
            "Epoch 1/20\n",
            "4/4 [==============================] - 26s 6s/step - loss: 1.6292 - acc: 0.1598 - val_loss: 1.5947 - val_acc: 0.2000\n",
            "Epoch 2/20\n",
            "4/4 [==============================] - 4s 1s/step - loss: 1.5667 - acc: 0.3007 - val_loss: 1.6088 - val_acc: 0.2000\n",
            "Epoch 3/20\n",
            "4/4 [==============================] - 4s 1s/step - loss: 1.5101 - acc: 0.3176 - val_loss: 1.5258 - val_acc: 0.3500\n",
            "Epoch 4/20\n",
            "4/4 [==============================] - 4s 1s/step - loss: 1.4485 - acc: 0.5345 - val_loss: 1.5955 - val_acc: 0.2000\n",
            "Epoch 5/20\n",
            "4/4 [==============================] - 4s 1s/step - loss: 1.4366 - acc: 0.3751 - val_loss: 1.4132 - val_acc: 0.4000\n",
            "Epoch 6/20\n",
            "4/4 [==============================] - 4s 1s/step - loss: 1.2966 - acc: 0.5673 - val_loss: 1.3485 - val_acc: 0.4500\n",
            "Epoch 7/20\n",
            "4/4 [==============================] - 4s 1s/step - loss: 1.2486 - acc: 0.5759 - val_loss: 1.2990 - val_acc: 0.5000\n",
            "Epoch 8/20\n",
            "4/4 [==============================] - 4s 1s/step - loss: 1.1164 - acc: 0.6438 - val_loss: 1.2242 - val_acc: 0.4500\n",
            "Epoch 9/20\n",
            "4/4 [==============================] - 4s 995ms/step - loss: 1.0126 - acc: 0.7164 - val_loss: 1.0809 - val_acc: 0.6500\n",
            "Epoch 10/20\n",
            "4/4 [==============================] - 4s 1s/step - loss: 1.0356 - acc: 0.5587 - val_loss: 1.0724 - val_acc: 0.5500\n",
            "Epoch 11/20\n",
            "4/4 [==============================] - 4s 1s/step - loss: 0.8808 - acc: 0.7948 - val_loss: 0.9465 - val_acc: 0.6500\n",
            "Epoch 12/20\n",
            "4/4 [==============================] - 4s 1s/step - loss: 0.7804 - acc: 0.8308 - val_loss: 0.9499 - val_acc: 0.6000\n",
            "Epoch 13/20\n",
            "4/4 [==============================] - 4s 1s/step - loss: 0.6772 - acc: 0.8268 - val_loss: 1.0536 - val_acc: 0.5500\n",
            "Epoch 14/20\n",
            "4/4 [==============================] - 4s 1s/step - loss: 0.6139 - acc: 0.8355 - val_loss: 0.9897 - val_acc: 0.6000\n",
            "Epoch 15/20\n",
            "4/4 [==============================] - 4s 1s/step - loss: 0.6542 - acc: 0.7762 - val_loss: 0.7845 - val_acc: 0.7500\n",
            "Epoch 16/20\n",
            "4/4 [==============================] - 4s 1s/step - loss: 0.5348 - acc: 0.8141 - val_loss: 0.8502 - val_acc: 0.7000\n",
            "Epoch 17/20\n",
            "4/4 [==============================] - 4s 1s/step - loss: 0.4488 - acc: 0.8909 - val_loss: 0.8314 - val_acc: 0.6500\n",
            "Epoch 18/20\n",
            "4/4 [==============================] - 4s 1s/step - loss: 0.5192 - acc: 0.8721 - val_loss: 0.8663 - val_acc: 0.6500\n",
            "Epoch 19/20\n",
            "4/4 [==============================] - 4s 1s/step - loss: 0.4528 - acc: 0.9258 - val_loss: 0.7037 - val_acc: 0.7000\n",
            "Epoch 20/20\n",
            "4/4 [==============================] - 4s 1s/step - loss: 0.3881 - acc: 0.9091 - val_loss: 0.7832 - val_acc: 0.6000\n"
          ],
          "name": "stdout"
        }
      ]
    },
    {
      "cell_type": "code",
      "metadata": {
        "id": "92GYwpqMpY3T"
      },
      "source": [
        "model.save('recycling_small.h5')"
      ],
      "execution_count": 23,
      "outputs": []
    },
    {
      "cell_type": "code",
      "metadata": {
        "id": "nQ4wN0I1pnfN"
      },
      "source": [
        "from tensorflow.keras.models import load_model\n",
        "\n",
        "model=load_model('recycling_small.h5')"
      ],
      "execution_count": 24,
      "outputs": []
    },
    {
      "cell_type": "code",
      "metadata": {
        "colab": {
          "base_uri": "https://localhost:8080/"
        },
        "id": "KCUC0En9prWJ",
        "outputId": "107ac93f-3fbc-41f5-e812-3de2b3b417ea"
      },
      "source": [
        "test_generator = test_datagen.flow_from_directory(\n",
        "        test_dir,\n",
        "        target_size=(150, 150),\n",
        "        batch_size=50,\n",
        "        class_mode='categorical')"
      ],
      "execution_count": 25,
      "outputs": [
        {
          "output_type": "stream",
          "text": [
            "Found 20 images belonging to 5 classes.\n"
          ],
          "name": "stdout"
        }
      ]
    },
    {
      "cell_type": "code",
      "metadata": {
        "colab": {
          "base_uri": "https://localhost:8080/"
        },
        "id": "yinw8cV9puQM",
        "outputId": "072c9a5a-ba38-4c31-9605-c168faca177c"
      },
      "source": [
        "print(\"-- Evaluate --\")\n",
        "scores = model.evaluate(test_generator)\n",
        "print(\"%s: %.2f%%\" %(model.metrics_names[1], scores[1]*100))"
      ],
      "execution_count": 26,
      "outputs": [
        {
          "output_type": "stream",
          "text": [
            "-- Evaluate --\n",
            "1/1 [==============================] - 1s 589ms/step - loss: 1.0238 - acc: 0.4500\n",
            "acc: 45.00%\n"
          ],
          "name": "stdout"
        }
      ]
    },
    {
      "cell_type": "code",
      "metadata": {
        "colab": {
          "base_uri": "https://localhost:8080/"
        },
        "id": "S0u5PZl-pxhq",
        "outputId": "5283cd72-b9be-4ebd-f5e4-7bd2d1dc87c7"
      },
      "source": [
        "import numpy as np\n",
        "\n",
        "output = model.predict_generator(test_generator, steps=5)\n",
        "np.set_printoptions(formatter={'float': lambda x: \"{0:0.3f}\".format(x)})\n",
        "print(test_generator.class_indices)\n",
        "print(output)"
      ],
      "execution_count": 27,
      "outputs": [
        {
          "output_type": "stream",
          "text": [
            "/usr/local/lib/python3.7/dist-packages/tensorflow/python/keras/engine/training.py:1905: UserWarning: `Model.predict_generator` is deprecated and will be removed in a future version. Please use `Model.predict`, which supports generators.\n",
            "  warnings.warn('`Model.predict_generator` is deprecated and '\n"
          ],
          "name": "stderr"
        },
        {
          "output_type": "stream",
          "text": [
            "WARNING:tensorflow:Your input ran out of data; interrupting training. Make sure that your dataset or generator can generate at least `steps_per_epoch * epochs` batches (in this case, 5 batches). You may need to use the repeat() function when building your dataset.\n",
            "{'brush': 0, 'flag': 1, 'mattress': 2, 'pad': 3, 'umbrella': 4}\n",
            "[[0.000 0.147 0.000 0.000 0.852]\n",
            " [0.208 0.005 0.721 0.007 0.059]\n",
            " [0.367 0.307 0.038 0.002 0.285]\n",
            " [0.009 0.009 0.029 0.001 0.952]\n",
            " [0.068 0.011 0.162 0.103 0.656]\n",
            " [0.010 0.017 0.720 0.206 0.046]\n",
            " [0.364 0.100 0.238 0.024 0.274]\n",
            " [0.003 0.630 0.003 0.000 0.363]\n",
            " [0.014 0.003 0.089 0.426 0.468]\n",
            " [0.027 0.061 0.610 0.003 0.299]\n",
            " [0.070 0.099 0.134 0.034 0.663]\n",
            " [0.441 0.128 0.236 0.012 0.183]\n",
            " [0.402 0.071 0.067 0.062 0.397]\n",
            " [0.047 0.080 0.143 0.247 0.483]\n",
            " [0.290 0.010 0.594 0.031 0.076]\n",
            " [0.196 0.105 0.078 0.018 0.603]\n",
            " [0.059 0.018 0.736 0.044 0.143]\n",
            " [0.194 0.114 0.444 0.007 0.241]\n",
            " [0.011 0.838 0.002 0.000 0.149]\n",
            " [0.003 0.271 0.157 0.009 0.560]]\n"
          ],
          "name": "stdout"
        }
      ]
    },
    {
      "cell_type": "code",
      "metadata": {
        "colab": {
          "base_uri": "https://localhost:8080/"
        },
        "id": "qwSNoC__qFmR",
        "outputId": "3c5e01c9-1ef9-489b-cb6a-7f8bb559450f"
      },
      "source": [
        "pred = []\n",
        "for i in range(len(output)):\n",
        "    maxval = max(output[i])\n",
        "    cls = np.where(output[i]==maxval)[0][0]\n",
        "    out = [k for k,v in test_generator.class_indices.items() if v == cls][0]\n",
        "    print('%s번째 이미지는 %s 확률로 %s로 분류되었습니다.'%(i, round(maxval*100,2), out))"
      ],
      "execution_count": 54,
      "outputs": [
        {
          "output_type": "stream",
          "text": [
            "0번째 이미지는 85.2 확률로 umbrella로 분류되었습니다.\n",
            "1번째 이미지는 72.13 확률로 mattress로 분류되었습니다.\n",
            "2번째 이미지는 36.74 확률로 brush로 분류되었습니다.\n",
            "3번째 이미지는 95.22 확률로 umbrella로 분류되었습니다.\n",
            "4번째 이미지는 65.61 확률로 umbrella로 분류되었습니다.\n",
            "5번째 이미지는 72.03 확률로 mattress로 분류되었습니다.\n",
            "6번째 이미지는 36.41 확률로 brush로 분류되었습니다.\n",
            "7번째 이미지는 63.0 확률로 flag로 분류되었습니다.\n",
            "8번째 이미지는 46.82 확률로 umbrella로 분류되었습니다.\n",
            "9번째 이미지는 61.02 확률로 mattress로 분류되었습니다.\n",
            "10번째 이미지는 66.34 확률로 umbrella로 분류되었습니다.\n",
            "11번째 이미지는 44.11 확률로 brush로 분류되었습니다.\n",
            "12번째 이미지는 40.25 확률로 brush로 분류되었습니다.\n",
            "13번째 이미지는 48.34 확률로 umbrella로 분류되었습니다.\n",
            "14번째 이미지는 59.36 확률로 mattress로 분류되었습니다.\n",
            "15번째 이미지는 60.33 확률로 umbrella로 분류되었습니다.\n",
            "16번째 이미지는 73.57 확률로 mattress로 분류되었습니다.\n",
            "17번째 이미지는 44.43 확률로 mattress로 분류되었습니다.\n",
            "18번째 이미지는 83.8 확률로 flag로 분류되었습니다.\n",
            "19번째 이미지는 55.97 확률로 umbrella로 분류되었습니다.\n"
          ],
          "name": "stdout"
        }
      ]
    },
    {
      "cell_type": "code",
      "metadata": {
        "colab": {
          "base_uri": "https://localhost:8080/"
        },
        "id": "a3zH0koetkla",
        "outputId": "47e8c645-03eb-4e6e-80b6-486baf4b00e2"
      },
      "source": [
        "test_generator[0]"
      ],
      "execution_count": 56,
      "outputs": [
        {
          "output_type": "execute_result",
          "data": {
            "text/plain": [
              "(array([[[[0.224, 0.208, 0.173],\n",
              "          [0.216, 0.200, 0.165],\n",
              "          [0.208, 0.192, 0.157],\n",
              "          ...,\n",
              "          [0.482, 0.494, 0.459],\n",
              "          [0.478, 0.490, 0.455],\n",
              "          [0.486, 0.498, 0.455]],\n",
              " \n",
              "         [[0.196, 0.180, 0.145],\n",
              "          [0.216, 0.200, 0.165],\n",
              "          [0.204, 0.188, 0.153],\n",
              "          ...,\n",
              "          [0.463, 0.475, 0.439],\n",
              "          [0.475, 0.486, 0.451],\n",
              "          [0.471, 0.482, 0.439]],\n",
              " \n",
              "         [[0.196, 0.169, 0.137],\n",
              "          [0.200, 0.173, 0.141],\n",
              "          [0.200, 0.173, 0.141],\n",
              "          ...,\n",
              "          [0.475, 0.478, 0.447],\n",
              "          [0.467, 0.471, 0.439],\n",
              "          [0.459, 0.471, 0.435]],\n",
              " \n",
              "         ...,\n",
              " \n",
              "         [[0.118, 0.125, 0.114],\n",
              "          [0.118, 0.125, 0.114],\n",
              "          [0.106, 0.114, 0.102],\n",
              "          ...,\n",
              "          [0.663, 0.686, 0.686],\n",
              "          [0.592, 0.616, 0.616],\n",
              "          [0.639, 0.663, 0.663]],\n",
              " \n",
              "         [[0.110, 0.118, 0.106],\n",
              "          [0.122, 0.129, 0.118],\n",
              "          [0.129, 0.137, 0.125],\n",
              "          ...,\n",
              "          [0.639, 0.655, 0.659],\n",
              "          [0.741, 0.757, 0.761],\n",
              "          [0.663, 0.686, 0.686]],\n",
              " \n",
              "         [[0.133, 0.141, 0.129],\n",
              "          [0.133, 0.141, 0.129],\n",
              "          [0.114, 0.122, 0.110],\n",
              "          ...,\n",
              "          [0.627, 0.643, 0.647],\n",
              "          [0.667, 0.682, 0.686],\n",
              "          [0.541, 0.565, 0.565]]],\n",
              " \n",
              " \n",
              "        [[[0.580, 0.502, 0.357],\n",
              "          [0.588, 0.510, 0.365],\n",
              "          [0.545, 0.467, 0.322],\n",
              "          ...,\n",
              "          [0.078, 0.055, 0.000],\n",
              "          [0.071, 0.047, 0.000],\n",
              "          [0.078, 0.055, 0.000]],\n",
              " \n",
              "         [[0.596, 0.518, 0.373],\n",
              "          [0.600, 0.522, 0.376],\n",
              "          [0.553, 0.475, 0.329],\n",
              "          ...,\n",
              "          [0.282, 0.239, 0.161],\n",
              "          [0.239, 0.196, 0.118],\n",
              "          [0.227, 0.184, 0.106]],\n",
              " \n",
              "         [[0.569, 0.490, 0.345],\n",
              "          [0.545, 0.467, 0.322],\n",
              "          [0.549, 0.471, 0.325],\n",
              "          ...,\n",
              "          [0.420, 0.353, 0.251],\n",
              "          [0.384, 0.318, 0.216],\n",
              "          [0.416, 0.349, 0.247]],\n",
              " \n",
              "         ...,\n",
              " \n",
              "         [[0.408, 0.380, 0.349],\n",
              "          [0.408, 0.380, 0.349],\n",
              "          [0.404, 0.376, 0.345],\n",
              "          ...,\n",
              "          [0.302, 0.271, 0.188],\n",
              "          [0.310, 0.278, 0.196],\n",
              "          [0.275, 0.243, 0.161]],\n",
              " \n",
              "         [[0.376, 0.349, 0.318],\n",
              "          [0.412, 0.384, 0.353],\n",
              "          [0.420, 0.392, 0.361],\n",
              "          ...,\n",
              "          [0.302, 0.271, 0.188],\n",
              "          [0.298, 0.267, 0.184],\n",
              "          [0.294, 0.263, 0.180]],\n",
              " \n",
              "         [[0.231, 0.204, 0.173],\n",
              "          [0.247, 0.220, 0.188],\n",
              "          [0.271, 0.243, 0.212],\n",
              "          ...,\n",
              "          [0.318, 0.286, 0.204],\n",
              "          [0.325, 0.294, 0.212],\n",
              "          [0.325, 0.294, 0.212]]],\n",
              " \n",
              " \n",
              "        [[[1.000, 1.000, 1.000],\n",
              "          [1.000, 1.000, 1.000],\n",
              "          [1.000, 1.000, 1.000],\n",
              "          ...,\n",
              "          [1.000, 1.000, 1.000],\n",
              "          [1.000, 1.000, 1.000],\n",
              "          [1.000, 1.000, 1.000]],\n",
              " \n",
              "         [[1.000, 1.000, 1.000],\n",
              "          [1.000, 1.000, 1.000],\n",
              "          [1.000, 1.000, 1.000],\n",
              "          ...,\n",
              "          [1.000, 1.000, 1.000],\n",
              "          [1.000, 1.000, 1.000],\n",
              "          [1.000, 1.000, 1.000]],\n",
              " \n",
              "         [[1.000, 1.000, 1.000],\n",
              "          [1.000, 1.000, 1.000],\n",
              "          [1.000, 1.000, 1.000],\n",
              "          ...,\n",
              "          [1.000, 1.000, 1.000],\n",
              "          [1.000, 1.000, 1.000],\n",
              "          [1.000, 1.000, 1.000]],\n",
              " \n",
              "         ...,\n",
              " \n",
              "         [[1.000, 1.000, 1.000],\n",
              "          [1.000, 1.000, 1.000],\n",
              "          [1.000, 1.000, 1.000],\n",
              "          ...,\n",
              "          [1.000, 1.000, 1.000],\n",
              "          [1.000, 1.000, 1.000],\n",
              "          [1.000, 1.000, 1.000]],\n",
              " \n",
              "         [[1.000, 1.000, 1.000],\n",
              "          [1.000, 1.000, 1.000],\n",
              "          [1.000, 1.000, 1.000],\n",
              "          ...,\n",
              "          [1.000, 1.000, 1.000],\n",
              "          [1.000, 1.000, 1.000],\n",
              "          [1.000, 1.000, 1.000]],\n",
              " \n",
              "         [[1.000, 1.000, 1.000],\n",
              "          [1.000, 1.000, 1.000],\n",
              "          [1.000, 1.000, 1.000],\n",
              "          ...,\n",
              "          [1.000, 1.000, 1.000],\n",
              "          [1.000, 1.000, 1.000],\n",
              "          [1.000, 1.000, 1.000]]],\n",
              " \n",
              " \n",
              "        ...,\n",
              " \n",
              " \n",
              "        [[[1.000, 1.000, 1.000],\n",
              "          [1.000, 1.000, 1.000],\n",
              "          [1.000, 1.000, 1.000],\n",
              "          ...,\n",
              "          [1.000, 1.000, 1.000],\n",
              "          [1.000, 1.000, 1.000],\n",
              "          [1.000, 1.000, 1.000]],\n",
              " \n",
              "         [[1.000, 1.000, 1.000],\n",
              "          [1.000, 1.000, 1.000],\n",
              "          [1.000, 1.000, 1.000],\n",
              "          ...,\n",
              "          [1.000, 1.000, 1.000],\n",
              "          [1.000, 1.000, 1.000],\n",
              "          [1.000, 1.000, 1.000]],\n",
              " \n",
              "         [[1.000, 1.000, 1.000],\n",
              "          [1.000, 1.000, 1.000],\n",
              "          [1.000, 1.000, 1.000],\n",
              "          ...,\n",
              "          [1.000, 1.000, 1.000],\n",
              "          [1.000, 1.000, 1.000],\n",
              "          [1.000, 1.000, 1.000]],\n",
              " \n",
              "         ...,\n",
              " \n",
              "         [[1.000, 1.000, 1.000],\n",
              "          [1.000, 1.000, 1.000],\n",
              "          [1.000, 1.000, 1.000],\n",
              "          ...,\n",
              "          [1.000, 1.000, 1.000],\n",
              "          [1.000, 1.000, 1.000],\n",
              "          [1.000, 1.000, 1.000]],\n",
              " \n",
              "         [[1.000, 1.000, 1.000],\n",
              "          [1.000, 1.000, 1.000],\n",
              "          [1.000, 1.000, 1.000],\n",
              "          ...,\n",
              "          [1.000, 1.000, 1.000],\n",
              "          [1.000, 1.000, 1.000],\n",
              "          [1.000, 1.000, 1.000]],\n",
              " \n",
              "         [[1.000, 1.000, 1.000],\n",
              "          [1.000, 1.000, 1.000],\n",
              "          [1.000, 1.000, 1.000],\n",
              "          ...,\n",
              "          [1.000, 1.000, 1.000],\n",
              "          [1.000, 1.000, 1.000],\n",
              "          [1.000, 1.000, 1.000]]],\n",
              " \n",
              " \n",
              "        [[[1.000, 1.000, 1.000],\n",
              "          [1.000, 1.000, 1.000],\n",
              "          [1.000, 1.000, 1.000],\n",
              "          ...,\n",
              "          [1.000, 1.000, 1.000],\n",
              "          [1.000, 1.000, 1.000],\n",
              "          [1.000, 1.000, 1.000]],\n",
              " \n",
              "         [[1.000, 1.000, 1.000],\n",
              "          [1.000, 1.000, 1.000],\n",
              "          [1.000, 1.000, 1.000],\n",
              "          ...,\n",
              "          [1.000, 1.000, 1.000],\n",
              "          [1.000, 1.000, 1.000],\n",
              "          [1.000, 1.000, 1.000]],\n",
              " \n",
              "         [[1.000, 1.000, 1.000],\n",
              "          [1.000, 1.000, 1.000],\n",
              "          [1.000, 1.000, 1.000],\n",
              "          ...,\n",
              "          [1.000, 1.000, 1.000],\n",
              "          [1.000, 1.000, 1.000],\n",
              "          [1.000, 1.000, 1.000]],\n",
              " \n",
              "         ...,\n",
              " \n",
              "         [[1.000, 1.000, 1.000],\n",
              "          [1.000, 1.000, 1.000],\n",
              "          [1.000, 1.000, 1.000],\n",
              "          ...,\n",
              "          [1.000, 1.000, 1.000],\n",
              "          [1.000, 1.000, 1.000],\n",
              "          [1.000, 1.000, 1.000]],\n",
              " \n",
              "         [[1.000, 1.000, 1.000],\n",
              "          [1.000, 1.000, 1.000],\n",
              "          [1.000, 1.000, 1.000],\n",
              "          ...,\n",
              "          [1.000, 1.000, 1.000],\n",
              "          [1.000, 1.000, 1.000],\n",
              "          [1.000, 1.000, 1.000]],\n",
              " \n",
              "         [[1.000, 1.000, 1.000],\n",
              "          [1.000, 1.000, 1.000],\n",
              "          [1.000, 1.000, 1.000],\n",
              "          ...,\n",
              "          [1.000, 1.000, 1.000],\n",
              "          [1.000, 1.000, 1.000],\n",
              "          [1.000, 1.000, 1.000]]],\n",
              " \n",
              " \n",
              "        [[[0.639, 0.573, 0.510],\n",
              "          [0.694, 0.627, 0.557],\n",
              "          [0.800, 0.737, 0.647],\n",
              "          ...,\n",
              "          [0.847, 0.824, 0.776],\n",
              "          [0.851, 0.827, 0.780],\n",
              "          [0.851, 0.827, 0.780]],\n",
              " \n",
              "         [[0.643, 0.576, 0.514],\n",
              "          [0.698, 0.631, 0.561],\n",
              "          [0.788, 0.725, 0.635],\n",
              "          ...,\n",
              "          [0.847, 0.824, 0.776],\n",
              "          [0.851, 0.827, 0.780],\n",
              "          [0.851, 0.827, 0.780]],\n",
              " \n",
              "         [[0.659, 0.592, 0.529],\n",
              "          [0.702, 0.635, 0.565],\n",
              "          [0.769, 0.706, 0.616],\n",
              "          ...,\n",
              "          [0.843, 0.820, 0.773],\n",
              "          [0.847, 0.824, 0.776],\n",
              "          [0.847, 0.824, 0.776]],\n",
              " \n",
              "         ...,\n",
              " \n",
              "         [[0.745, 0.702, 0.678],\n",
              "          [0.533, 0.427, 0.314],\n",
              "          [0.706, 0.576, 0.455],\n",
              "          ...,\n",
              "          [0.196, 0.133, 0.031],\n",
              "          [0.204, 0.141, 0.039],\n",
              "          [0.184, 0.122, 0.020]],\n",
              " \n",
              "         [[0.514, 0.451, 0.392],\n",
              "          [0.608, 0.486, 0.365],\n",
              "          [0.678, 0.541, 0.431],\n",
              "          ...,\n",
              "          [0.204, 0.141, 0.039],\n",
              "          [0.180, 0.118, 0.016],\n",
              "          [0.184, 0.122, 0.020]],\n",
              " \n",
              "         [[0.451, 0.365, 0.271],\n",
              "          [0.643, 0.510, 0.373],\n",
              "          [0.678, 0.537, 0.435],\n",
              "          ...,\n",
              "          [0.204, 0.141, 0.039],\n",
              "          [0.216, 0.153, 0.051],\n",
              "          [0.196, 0.133, 0.031]]]], dtype=float32),\n",
              " array([[0.000, 0.000, 1.000, 0.000, 0.000],\n",
              "        [0.000, 1.000, 0.000, 0.000, 0.000],\n",
              "        [0.000, 0.000, 0.000, 1.000, 0.000],\n",
              "        [0.000, 1.000, 0.000, 0.000, 0.000],\n",
              "        [0.000, 0.000, 0.000, 1.000, 0.000],\n",
              "        [0.000, 0.000, 0.000, 0.000, 1.000],\n",
              "        [0.000, 0.000, 0.000, 0.000, 1.000],\n",
              "        [1.000, 0.000, 0.000, 0.000, 0.000],\n",
              "        [0.000, 1.000, 0.000, 0.000, 0.000],\n",
              "        [0.000, 0.000, 0.000, 1.000, 0.000],\n",
              "        [0.000, 0.000, 0.000, 0.000, 1.000],\n",
              "        [1.000, 0.000, 0.000, 0.000, 0.000],\n",
              "        [1.000, 0.000, 0.000, 0.000, 0.000],\n",
              "        [0.000, 0.000, 1.000, 0.000, 0.000],\n",
              "        [1.000, 0.000, 0.000, 0.000, 0.000],\n",
              "        [0.000, 0.000, 1.000, 0.000, 0.000],\n",
              "        [0.000, 1.000, 0.000, 0.000, 0.000],\n",
              "        [0.000, 0.000, 0.000, 0.000, 1.000],\n",
              "        [0.000, 0.000, 0.000, 1.000, 0.000],\n",
              "        [0.000, 0.000, 1.000, 0.000, 0.000]], dtype=float32))"
            ]
          },
          "metadata": {
            "tags": []
          },
          "execution_count": 56
        }
      ]
    }
  ]
}